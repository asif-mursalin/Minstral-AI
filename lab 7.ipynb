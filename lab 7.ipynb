{
 "cells": [
  {
   "cell_type": "code",
   "execution_count": 2,
   "metadata": {},
   "outputs": [
    {
     "name": "stdout",
     "output_type": "stream",
     "text": [
      "MISTRAL_API_KEY: LoXIODO6VkldB64uwva76l1zDpIz6cfu\n"
     ]
    }
   ],
   "source": [
    "import os\n",
    "os.environ[\"MISTRAL_API_KEY\"] = \"LoXIODO6VkldB64uwva76l1zDpIz6cfu\"\n",
    "print(f\"MISTRAL_API_KEY: {os.environ.get('MISTRAL_API_KEY')}\")"
   ]
  },
  {
   "cell_type": "code",
   "execution_count": 3,
   "metadata": {},
   "outputs": [],
   "source": [
    "api_key = os.getenv(\"MISTRAL_API_KEY\")"
   ]
  },
  {
   "cell_type": "code",
   "execution_count": 4,
   "metadata": {},
   "outputs": [],
   "source": [
    "import os\n",
    "from mistralai import Mistral, UserMessage\n",
    "def mistral(user_message, model=\"mistral-small-latest\", is_json=False):\n",
    "    model = \"mistral-large-latest\"\n",
    "    client = Mistral(api_key=api_key)\n",
    "    messages = [\n",
    "        UserMessage(content=user_message),\n",
    "    ]\n",
    "    chat_response = client.chat.complete(\n",
    "        model=model,\n",
    "        messages=messages,\n",
    "    )\n",
    "    return chat_response.choices[0].message.content"
   ]
  },
  {
   "cell_type": "code",
   "execution_count": 5,
   "metadata": {},
   "outputs": [
    {
     "data": {
      "text/plain": [
       "'Hello! I can assist with a wide range of tasks and provide information on various topics. Here are some examples of what I can do:\\n\\n1. **Answer Questions**: Provide information on a wide variety of topics, such as history, science, technology, and more.\\n2. **Explain Concepts**: Break down complex ideas into simpler terms.\\n3. **Provide Recommendations**: Suggest books, movies, recipes, and other types of content based on your preferences.\\n4. **Help with Writing**: Assist with writing tasks, such as drafting emails, essays, or reports.\\n5. **Language Translation**: Translate text between different languages.\\n6. **Offer Study Tips**: Provide advice on studying and learning techniques.\\n7. **Tech Support**: Offer basic troubleshooting tips for common technical issues.\\n8. **Health and Wellness**: Provide general information on health, fitness, and wellness.\\n9. **Jokes and Trivia**: Share funny jokes or interesting trivia.\\n10. **Personal Development**: Offer tips on productivity, time management, and personal growth.'"
      ]
     },
     "execution_count": 5,
     "metadata": {},
     "output_type": "execute_result"
    }
   ],
   "source": [
    "mistral(\"hello, what can you do?\")"
   ]
  },
  {
   "cell_type": "code",
   "execution_count": 6,
   "metadata": {},
   "outputs": [],
   "source": [
    "prompt = \"\"\"\n",
    "You are a bank customer service bot.\n",
    "Your task is to assess customer intent and categorize customer\n",
    "inquiry after <<<>>> into one of the following predefined categories:\n",
    "card arrival\n",
    "change pin\n",
    "exchange rate\n",
    "country support\n",
    "cancel transfer\n",
    "charge dispute\n",
    "If the text doesn't fit into any of the above categories,\n",
    "classify it as:\n",
    "customer service\n",
    "You will only respond with the predefined category.\n",
    "Do not provide explanations or notes.\n",
    "###\n",
    "Here are some examples:\n",
    "Inquiry: How do I know if I will get my card, or if it is lost? I am concerned about the delivery process and would like to ensure that I will receive my ca\n",
    "Category: card arrival\n",
    "Inquiry: I am planning an international trip to Paris and would like to inquire about the current exchange rates for Euros as well as any associated fees fo\n",
    "Category: exchange rate\n",
    "Inquiry: What countries are getting support? I will be traveling and living abroad for an extended period of time, specifically in France and Germany, and w\n",
    "Category: country support\n",
    "Inquiry: Can I get help starting my computer? I am having difficulty starting my computer, and would appreciate your expertise in helping me troubleshoot th\n",
    "Category: customer service\n",
    "###\n",
    "<<<\n",
    "Inquiry: {inquiry}\n",
    ">>>\n",
    "Category:\n",
    "\"\"\""
   ]
  },
  {
   "cell_type": "code",
   "execution_count": 7,
   "metadata": {},
   "outputs": [],
   "source": [
    "response = mistral(f\"Please correct the spelling and grammar of \\\n",
    "this prompt and return a text that is the same prompt,\\\n",
    "with the spelling and grammar fixed: {prompt}\")"
   ]
  },
  {
   "cell_type": "code",
   "execution_count": 8,
   "metadata": {},
   "outputs": [
    {
     "name": "stdout",
     "output_type": "stream",
     "text": [
      "You are a bank customer service bot.\n",
      "Your task is to assess customer intent and categorize the customer inquiry after <<<>>> into one of the following predefined categories:\n",
      "- card arrival\n",
      "- change pin\n",
      "- exchange rate\n",
      "- country support\n",
      "- cancel transfer\n",
      "- charge dispute\n",
      "\n",
      "If the text doesn't fit into any of the above categories, classify it as:\n",
      "- customer service\n",
      "\n",
      "You will only respond with the predefined category. Do not provide explanations or notes.\n",
      "\n",
      "###\n",
      "Here are some examples:\n",
      "Inquiry: How do I know if I will get my card, or if it is lost? I am concerned about the delivery process and would like to ensure that I will receive my card.\n",
      "Category: card arrival\n",
      "\n",
      "Inquiry: I am planning an international trip to Paris and would like to inquire about the current exchange rates for Euros as well as any associated fees for exchanging currency.\n",
      "Category: exchange rate\n",
      "\n",
      "Inquiry: What countries are supported? I will be traveling and living abroad for an extended period of time, specifically in France and Germany, and would like to know if my card will be supported.\n",
      "Category: country support\n",
      "\n",
      "Inquiry: Can I get help starting my computer? I am having difficulty starting my computer, and would appreciate your expertise in helping me troubleshoot this issue.\n",
      "Category: customer service\n",
      "\n",
      "###\n",
      "<<<\n",
      "Inquiry: {inquiry}\n",
      ">>>\n",
      "Category:\n"
     ]
    }
   ],
   "source": [
    "print(response)"
   ]
  },
  {
   "cell_type": "code",
   "execution_count": 9,
   "metadata": {},
   "outputs": [
    {
     "data": {
      "text/plain": [
       "'country support'"
      ]
     },
     "execution_count": 9,
     "metadata": {},
     "output_type": "execute_result"
    }
   ],
   "source": [
    "mistral(\n",
    "response.format(\n",
    "inquiry=\"I am inquiring about the availability of your cards in the EU\")\n",
    ")"
   ]
  },
  {
   "cell_type": "code",
   "execution_count": 10,
   "metadata": {},
   "outputs": [],
   "source": [
    "medical_notes = \"\"\"\n",
    "A 60-year-old male patient, Mr. Johnson, presented with symptoms\n",
    "of increased thirst, frequent urination, fatigue, and unexplained\n",
    "weight loss. Upon evaluation, he was diagnosed with diabetes,\n",
    "confirmed by elevated blood sugar levels. Mr. Johnson's weight\n",
    "is 210 lbs. He has been prescribed Metformin to be taken twice daily\n",
    "with meals. It was noted during the consultation that the patient is\n",
    "a current smoker.\n",
    "\"\"\""
   ]
  },
  {
   "cell_type": "code",
   "execution_count": 11,
   "metadata": {},
   "outputs": [],
   "source": [
    "prompt = f\"\"\"\n",
    "Extract information from the following medical notes:\n",
    "{medical_notes}\n",
    "Return json format with the following JSON schema:\n",
    "{{\n",
    "    \"age\": {{\n",
    "        \"type\": \"integer\"\n",
    "    }},\n",
    "    \"gender\": {{\n",
    "        \"type\": \"string\",\n",
    "        \"enum\": [\"male\", \"female\", \"other\"]\n",
    "    }},\n",
    "    \"diagnosis\": {{\n",
    "        \"type\": \"string\",\n",
    "        \"enum\": [\"migraine\", \"diabetes\", \"arthritis\", \"acne\"]\n",
    "    }},\n",
    "    \"weight\": {{\n",
    "        \"type\": \"integer\"\n",
    "    }},\n",
    "    \"smoking\": {{\n",
    "        \"type\": \"string\",\n",
    "        \"enum\": [\"yes\", \"no\"]\n",
    "    }}\n",
    "}}\n",
    "\"\"\"    "
   ]
  },
  {
   "cell_type": "code",
   "execution_count": 12,
   "metadata": {},
   "outputs": [
    {
     "name": "stdout",
     "output_type": "stream",
     "text": [
      "```json\n",
      "{\n",
      "    \"age\": 60,\n",
      "    \"gender\": \"male\",\n",
      "    \"diagnosis\": \"diabetes\",\n",
      "    \"weight\": 210,\n",
      "    \"smoking\": \"yes\"\n",
      "}\n",
      "```\n"
     ]
    }
   ],
   "source": [
    "response = mistral(prompt, is_json=True)\n",
    "print(response)"
   ]
  },
  {
   "cell_type": "code",
   "execution_count": 13,
   "metadata": {},
   "outputs": [],
   "source": [
    "email = \"\"\"\n",
    "Dear mortgage lender,\n",
    "What's your 30-year fixed-rate APR, how is it compared to the 15-year\n",
    "fixed rate?\n",
    "Regards,\n",
    "Anna\n",
    "\"\"\""
   ]
  },
  {
   "cell_type": "code",
   "execution_count": 14,
   "metadata": {},
   "outputs": [],
   "source": [
    "prompt = f\"\"\"\n",
    "You are a mortgage lender customer service bot, and your task is to\n",
    "create personalized email responses to address customer questions.\n",
    "Answer the customer's inquiry using the provided facts below. Ensure\n",
    "that your response is clear, concise, and directly addresses the\n",
    "customer's question. Address the customer in a friendly and\n",
    "professional manner. Sign the email with \"Lender Customer Support.\"\n",
    "# Facts\n",
    "30-year fixed-rate: interest rate 6.403%, APR 6.484%\n",
    "20-year fixed-rate: interest rate 6.329%, APR 6.429%\n",
    "15-year fixed-rate: interest rate 5.705%, APR 5.848%\n",
    "10-year fixed-rate: interest rate 5.500%, APR 5.720%\n",
    "7-year ARM: interest rate 7.011%, APR 7.660%\n",
    "5-year ARM: interest rate 6.880%, APR 7.754%\n",
    "3-year ARM: interest rate 6.125%, APR 7.204%\n",
    "30-year fixed-rate FHA: interest rate 5.527%, APR 6.316%\n",
    "30-year fixed-rate VA: interest rate 5.684%, APR 6.062%\n",
    "# Email\n",
    "{email}\n",
    "\"\"\""
   ]
  },
  {
   "cell_type": "code",
   "execution_count": 15,
   "metadata": {},
   "outputs": [
    {
     "name": "stdout",
     "output_type": "stream",
     "text": [
      "Dear Anna,\n",
      "\n",
      "Thank you for reaching out to us with your inquiry.\n",
      "\n",
      "Our 30-year fixed-rate APR is 6.484%. In comparison, the 15-year fixed-rate APR is 5.848%.\n",
      "\n",
      "If you have any further questions or need additional information, please feel free to contact us.\n",
      "\n",
      "Best regards,\n",
      "\n",
      "Lender Customer Support\n"
     ]
    }
   ],
   "source": [
    "response = mistral(prompt)\n",
    "print(response)"
   ]
  },
  {
   "cell_type": "code",
   "execution_count": 16,
   "metadata": {},
   "outputs": [],
   "source": [
    "newsletter = \"\"\"\n",
    "European AI champion Mistral AI unveiled new large language models and formed an alliance with Microsoft. \n",
    "\n",
    "What’s new: Mistral AI introduced two closed models, Mistral Large and Mistral Small (joining Mistral Medium, which debuted quietly late last year). Microsoft invested $16.3 million in the French startup, and it agreed to distribute Mistral Large on its Azure platform and let Mistral AI use Azure computing infrastructure. Mistral AI makes the new models available to try for free here and to use on its La Plateforme and via custom deployments.\n",
    "\n",
    "Model specs: The new models’ parameter counts, architectures, and training methods are undisclosed. Like the earlier, open source Mistral 7B and Mixtral 8x7B, they can process 32,000 tokens of input context. \n",
    "\n",
    "Mistral Large achieved 81.2 percent on the MMLU benchmark, outperforming Anthropic’s Claude 2, Google’s Gemini Pro, and Meta’s Llama 2 70B, though falling short of GPT-4. Mistral Small, which is optimized for latency and cost, achieved 72.2 percent on MMLU.\n",
    "Both models are fluent in French, German, Spanish, and Italian. They’re trained for function calling and JSON-format output.\n",
    "Microsoft’s investment in Mistral AI is significant but tiny compared to its $13 billion stake in OpenAI and Google and Amazon’s investments in Anthropic, which amount to $2 billion and $4 billion respectively.\n",
    "Mistral AI and Microsoft will collaborate to train bespoke models for customers including European governments.\n",
    "Behind the news: Mistral AI was founded in early 2023 by engineers from Google and Meta. The French government has touted the company as a home-grown competitor to U.S.-based leaders like OpenAI. France’s representatives in the European Commission argued on Mistral’s behalf to loosen the European Union’s AI Act oversight on powerful AI models. \n",
    "\n",
    "Yes, but: Mistral AI’s partnership with Microsoft has divided European lawmakers and regulators. The European Commission, which already was investigating Microsoft’s agreement with OpenAI for potential breaches of antitrust law, plans to investigate the new partnership as well. Members of President Emmanuel Macron’s Renaissance party criticized the deal’s potential to give a U.S. company access to European users’ data. However, other French lawmakers support the relationship.\n",
    "\n",
    "Why it matters: The partnership between Mistral AI and Microsoft gives the startup crucial processing power for training large models and greater access to potential customers around the world. It gives the tech giant greater access to the European market. And it gives Azure customers access to a high-performance model that’s tailored to Europe’s unique regulatory environment.\n",
    "\n",
    "We’re thinking: Mistral AI has made impressive progress in a short time, especially relative to the resources at its disposal as a startup. Its partnership with a leading hyperscaler is a sign of the tremendous processing and distribution power that remains concentrated in the large, U.S.-headquartered cloud companies.\n",
    "\"\"\""
   ]
  },
  {
   "cell_type": "code",
   "execution_count": 17,
   "metadata": {},
   "outputs": [],
   "source": [
    "prompt = f\"\"\"\n",
    "You are a commentator. Your task is to write a report on a newsletter.\n",
    "When presented with the newsletter, come up with interesting questions to ask,\n",
    "and answer each question.\n",
    "Afterward, combine all the information and write a report in the markdown\n",
    "format.\n",
    "# Newsletter:\n",
    "{newsletter}\n",
    "# Instructions:\n",
    "## Summarize:\n",
    "In clear and concise language, summarize the key points and themes\n",
    "presented in the newsletter.\n",
    "## Interesting Questions:\n",
    "Generate three distinct and thought-provoking questions that can be\n",
    "asked about the content of the newsletter. For each question:\n",
    "- After \"Q: \", describe the problem\n",
    "- After \"A: \", provide a detailed explanation of the problem addressed\n",
    "in the question.\n",
    "- Enclose the ultimate answer in <>.\n",
    "## Write a analysis report\n",
    "Using the summary and the answers to the interesting questions,\n",
    "create a comprehensive report in Markdown format.\n",
    "\"\"\""
   ]
  },
  {
   "cell_type": "code",
   "execution_count": 18,
   "metadata": {},
   "outputs": [
    {
     "name": "stdout",
     "output_type": "stream",
     "text": [
      "# Summary\n",
      "\n",
      "European AI startup Mistral AI has introduced two new language models, Mistral Large and Mistral Small, and formed a strategic partnership with Microsoft. Microsoft invested $16.3 million in Mistral AI and will distribute Mistral Large on its Azure platform. The new models, which can process 32,000 tokens of input context and are fluent in multiple languages, achieved high scores on the MMLU benchmark. The partnership aims to provide Azure customers with access to a high-performance model tailored to Europe's regulatory environment, but it has sparked debate among European lawmakers and regulators.\n",
      "\n",
      "# Interesting Questions\n",
      "\n",
      "## Q1: How does the performance of Mistral's new models compare to other leading AI models, and what are the implications for the AI landscape?\n",
      "\n",
      "**A1:** The newsletter highlights that Mistral Large outperformed several prominent models like Anthropic’s Claude 2, Google’s Gemini Pro, and Meta’s Llama 2 70B on the MMLU benchmark, but fell short of GPT-4. This performance indicates that Mistral AI is a strong competitor in the AI landscape, particularly in the European market. The implications are significant as it shows that even startups can produce high-performance models that rival those of tech giants, potentially leading to more diverse and competitive AI offerings.\n",
      "\n",
      "**<Mistral AI's models are competitive with leading AI models, suggesting a more diverse and competitive AI landscape.>**\n",
      "\n",
      "## Q2: What are the potential regulatory challenges and benefits of the partnership between Mistral AI and Microsoft?\n",
      "\n",
      "**A2:** The partnership has divided European lawmakers and regulators. Some are concerned about a U.S. company gaining access to European users' data, which could raise privacy and sovereignty issues. However, others see the partnership as beneficial for providing European governments and businesses with access to advanced AI technologies tailored to Europe's regulatory environment. The European Commission is investigating the deal for potential antitrust violations, which could impact the future of AI regulations in Europe.\n",
      "\n",
      "**<The partnership faces regulatory challenges due to data privacy concerns but offers benefits in terms of access to advanced AI technologies.>**\n",
      "\n",
      "## Q3: How does the investment by Microsoft in Mistral AI compare to its investments in other AI companies, and what does this tell us about Microsoft's AI strategy?\n",
      "\n",
      "**A3:** Microsoft’s $16.3 million investment in Mistral AI is significantly smaller compared to its $13 billion stake in OpenAI and the billions invested by Google and Amazon in Anthropic. This disparity suggests that Microsoft is diversifying its AI investments to include both established leaders and promising startups. This strategy allows Microsoft to hedge its bets and gain a foothold in various AI markets, including the European market, which has unique regulatory considerations.\n",
      "\n",
      "**<Microsoft's investment in Mistral AI is part of a diversified AI strategy aimed at gaining a foothold in various markets, including Europe.>**\n",
      "\n",
      "# Analysis Report\n",
      "\n",
      "## Mistral AI's New Models and Partnership with Microsoft: A Strategic Move in the AI Landscape\n",
      "\n",
      "European AI startup Mistral AI has made significant strides with the introduction of two new language models, Mistral Large and Mistral Small, and a strategic partnership with Microsoft. This report analyzes the key points and themes presented in the newsletter, addressing the performance of the new models, regulatory implications, and Microsoft's AI investment strategy.\n",
      "\n",
      "### Overview of Mistral AI's New Models\n",
      "\n",
      "Mistral AI has introduced two closed models, Mistral Large and Mistral Small, joining Mistral Medium, which debuted late last year. These models can process 32,000 tokens of input context and are fluent in French, German, Spanish, and Italian. Mistral Large achieved an impressive 81.2 percent on the MMLU benchmark, outperforming several prominent models like Anthropic’s Claude 2, Google’s Gemini Pro, and Meta’s Llama 2 70B, though falling short of GPT-4. Mistral Small, optimized for latency and cost, achieved 72.2 percent on MMLU.\n",
      "\n",
      "### Performance Comparison and Implications\n",
      "\n",
      "The performance of Mistral's new models highlights their competitiveness in the AI landscape. Outperforming models from established companies like Google and Meta indicates that Mistral AI is a strong contender, especially in the European market. This suggests a more diverse and competitive AI landscape, where startups can produce high-performance models that rival those of tech giants.\n",
      "\n",
      "**<Mistral AI's models are competitive with leading AI models, suggesting a more diverse and competitive AI landscape.>**\n",
      "\n",
      "### Regulatory Challenges and Benefits\n",
      "\n",
      "The partnership between Mistral AI and Microsoft has sparked debate among European lawmakers and regulators. Some are concerned about a U.S. company gaining access to European users' data, raising privacy and sovereignty issues. However, others see the partnership as beneficial for providing European governments and businesses with access to advanced AI technologies tailored to Europe's regulatory environment. The European Commission is investigating the deal for potential antitrust violations, which could impact the future of AI regulations in Europe.\n",
      "\n",
      "**<The partnership faces regulatory challenges due to data privacy concerns but offers benefits in terms of access to advanced AI technologies.>**\n",
      "\n",
      "### Microsoft's AI Investment Strategy\n",
      "\n",
      "Microsoft’s $16.3 million investment in Mistral AI is significantly smaller compared to its $13 billion stake in OpenAI and the billions invested by Google and Amazon in Anthropic. This disparity suggests that Microsoft is diversifying its AI investments to include both established leaders and promising startups. This strategy allows Microsoft to hedge its bets and gain a foothold in various AI markets, including the European market, which has unique regulatory considerations.\n",
      "\n",
      "**<Microsoft's investment in Mistral AI is part of a diversified AI strategy aimed at gaining a foothold in various markets, including Europe.>**\n",
      "\n",
      "### Conclusion\n",
      "\n",
      "Mistral AI's new models and partnership with Microsoft represent a strategic move in the AI landscape. The high performance of the models indicates a competitive edge, while the partnership offers both regulatory challenges and benefits. Microsoft's investment strategy highlights its efforts to diversify and gain a foothold in various markets. Overall, this development signifies a more competitive and diverse AI landscape, with significant implications for the future of AI technology and regulation.\n"
     ]
    }
   ],
   "source": [
    "response = mistral(prompt)\n",
    "print(response)"
   ]
  },
  {
   "cell_type": "code",
   "execution_count": null,
   "metadata": {},
   "outputs": [],
   "source": []
  }
 ],
 "metadata": {
  "kernelspec": {
   "display_name": "slctd_top_lab6",
   "language": "python",
   "name": "python3"
  },
  "language_info": {
   "codemirror_mode": {
    "name": "ipython",
    "version": 3
   },
   "file_extension": ".py",
   "mimetype": "text/x-python",
   "name": "python",
   "nbconvert_exporter": "python",
   "pygments_lexer": "ipython3",
   "version": "3.9.21"
  }
 },
 "nbformat": 4,
 "nbformat_minor": 2
}
